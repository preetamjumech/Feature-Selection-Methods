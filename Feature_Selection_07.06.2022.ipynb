{
 "cells": [
  {
   "cell_type": "markdown",
   "id": "d06698e9",
   "metadata": {},
   "source": [
    "# SelectKBest -\n",
    "\n",
    "Feature - Cat, Target - Cat ==> Chi-Square\n",
    "\n",
    "Feature - Numeric, Target - Numeric ==> Correlation\n",
    "\n",
    "Feature - Cat, Target - Numeric ==> f_regression\n",
    "\n",
    "Feature - Numeric, Target - Cat ==> f_classification"
   ]
  },
  {
   "cell_type": "code",
   "execution_count": 1,
   "id": "1414106a",
   "metadata": {},
   "outputs": [],
   "source": [
    "import matplotlib.pyplot as plt\n",
    "import numpy as np\n",
    "import pandas as pd\n",
    "import seaborn as sns\n",
    "import warnings\n",
    "from sklearn.decomposition import PCA\n",
    "from sklearn.feature_selection import RFE\n",
    "from sklearn.feature_selection import RFECV\n",
    "from sklearn.feature_selection import SelectKBest, chi2\n",
    "from sklearn.linear_model import LogisticRegression\n",
    "from sklearn.metrics import accuracy_score, f1_score\n",
    "from sklearn.metrics import f1_score,confusion_matrix\n",
    "from sklearn.model_selection import train_test_split"
   ]
  },
  {
   "cell_type": "code",
   "execution_count": 2,
   "id": "740124b6",
   "metadata": {},
   "outputs": [],
   "source": [
    "np.set_printoptions(precision=3)\n",
    "pd.set_option('display.float_format', lambda x: '%.3f' % x)\n",
    "warnings.filterwarnings('ignore')\n",
    "np.random.seed(8)\n",
    "%matplotlib inline"
   ]
  },
  {
   "cell_type": "code",
   "execution_count": 3,
   "id": "3a9da5dd",
   "metadata": {},
   "outputs": [],
   "source": [
    "def generate_accuracy_and_heatmap(model, x, y):\n",
    "#     cm = confusion_matrix(y,model.predict(x))\n",
    "#     sns.heatmap(cm,annot=True,fmt=\"d\")\n",
    "    ac = accuracy_score(y,model.predict(x))\n",
    "    f_score = f1_score(y,model.predict(x))\n",
    "    print('Accuracy is: ', ac)\n",
    "    print('F1 score is: ', f_score)\n",
    "    print (\"\\n\")\n",
    "    print (pd.crosstab(pd.Series(model.predict(x), name='Predicted'),\n",
    "                       pd.Series(y['Outcome'],name='Actual')))\n",
    "    return 1"
   ]
  },
  {
   "cell_type": "code",
   "execution_count": 4,
   "id": "facf8c8d",
   "metadata": {},
   "outputs": [],
   "source": [
    "df = pd.read_csv('diabetes.csv')"
   ]
  },
  {
   "cell_type": "code",
   "execution_count": 5,
   "id": "622533d5",
   "metadata": {},
   "outputs": [
    {
     "name": "stdout",
     "output_type": "stream",
     "text": [
      "<class 'pandas.core.frame.DataFrame'>\n",
      "RangeIndex: 768 entries, 0 to 767\n",
      "Data columns (total 9 columns):\n",
      " #   Column                    Non-Null Count  Dtype  \n",
      "---  ------                    --------------  -----  \n",
      " 0   Pregnancies               768 non-null    int64  \n",
      " 1   Glucose                   768 non-null    int64  \n",
      " 2   BloodPressure             768 non-null    int64  \n",
      " 3   SkinThickness             768 non-null    int64  \n",
      " 4   Insulin                   768 non-null    int64  \n",
      " 5   BMI                       768 non-null    float64\n",
      " 6   DiabetesPedigreeFunction  768 non-null    float64\n",
      " 7   Age                       768 non-null    int64  \n",
      " 8   Outcome                   768 non-null    int64  \n",
      "dtypes: float64(2), int64(7)\n",
      "memory usage: 54.1 KB\n"
     ]
    }
   ],
   "source": [
    "df.info()"
   ]
  },
  {
   "cell_type": "code",
   "execution_count": 6,
   "id": "9086a95a",
   "metadata": {},
   "outputs": [
    {
     "data": {
      "text/plain": [
       "0    500\n",
       "1    268\n",
       "Name: Outcome, dtype: int64"
      ]
     },
     "execution_count": 6,
     "metadata": {},
     "output_type": "execute_result"
    }
   ],
   "source": [
    "df.Outcome.value_counts()"
   ]
  },
  {
   "cell_type": "code",
   "execution_count": 7,
   "id": "67a39d5f",
   "metadata": {},
   "outputs": [
    {
     "data": {
      "text/html": [
       "<div>\n",
       "<style scoped>\n",
       "    .dataframe tbody tr th:only-of-type {\n",
       "        vertical-align: middle;\n",
       "    }\n",
       "\n",
       "    .dataframe tbody tr th {\n",
       "        vertical-align: top;\n",
       "    }\n",
       "\n",
       "    .dataframe thead th {\n",
       "        text-align: right;\n",
       "    }\n",
       "</style>\n",
       "<table border=\"1\" class=\"dataframe\">\n",
       "  <thead>\n",
       "    <tr style=\"text-align: right;\">\n",
       "      <th></th>\n",
       "      <th>Pregnancies</th>\n",
       "      <th>Glucose</th>\n",
       "      <th>BloodPressure</th>\n",
       "      <th>SkinThickness</th>\n",
       "      <th>Insulin</th>\n",
       "      <th>BMI</th>\n",
       "      <th>DiabetesPedigreeFunction</th>\n",
       "      <th>Age</th>\n",
       "      <th>Outcome</th>\n",
       "    </tr>\n",
       "  </thead>\n",
       "  <tbody>\n",
       "    <tr>\n",
       "      <th>0</th>\n",
       "      <td>6</td>\n",
       "      <td>148</td>\n",
       "      <td>72</td>\n",
       "      <td>35</td>\n",
       "      <td>0</td>\n",
       "      <td>33.600</td>\n",
       "      <td>0.627</td>\n",
       "      <td>50</td>\n",
       "      <td>1</td>\n",
       "    </tr>\n",
       "    <tr>\n",
       "      <th>1</th>\n",
       "      <td>1</td>\n",
       "      <td>85</td>\n",
       "      <td>66</td>\n",
       "      <td>29</td>\n",
       "      <td>0</td>\n",
       "      <td>26.600</td>\n",
       "      <td>0.351</td>\n",
       "      <td>31</td>\n",
       "      <td>0</td>\n",
       "    </tr>\n",
       "    <tr>\n",
       "      <th>2</th>\n",
       "      <td>8</td>\n",
       "      <td>183</td>\n",
       "      <td>64</td>\n",
       "      <td>0</td>\n",
       "      <td>0</td>\n",
       "      <td>23.300</td>\n",
       "      <td>0.672</td>\n",
       "      <td>32</td>\n",
       "      <td>1</td>\n",
       "    </tr>\n",
       "    <tr>\n",
       "      <th>3</th>\n",
       "      <td>1</td>\n",
       "      <td>89</td>\n",
       "      <td>66</td>\n",
       "      <td>23</td>\n",
       "      <td>94</td>\n",
       "      <td>28.100</td>\n",
       "      <td>0.167</td>\n",
       "      <td>21</td>\n",
       "      <td>0</td>\n",
       "    </tr>\n",
       "    <tr>\n",
       "      <th>4</th>\n",
       "      <td>0</td>\n",
       "      <td>137</td>\n",
       "      <td>40</td>\n",
       "      <td>35</td>\n",
       "      <td>168</td>\n",
       "      <td>43.100</td>\n",
       "      <td>2.288</td>\n",
       "      <td>33</td>\n",
       "      <td>1</td>\n",
       "    </tr>\n",
       "  </tbody>\n",
       "</table>\n",
       "</div>"
      ],
      "text/plain": [
       "   Pregnancies  Glucose  BloodPressure  SkinThickness  Insulin    BMI  \\\n",
       "0            6      148             72             35        0 33.600   \n",
       "1            1       85             66             29        0 26.600   \n",
       "2            8      183             64              0        0 23.300   \n",
       "3            1       89             66             23       94 28.100   \n",
       "4            0      137             40             35      168 43.100   \n",
       "\n",
       "   DiabetesPedigreeFunction  Age  Outcome  \n",
       "0                     0.627   50        1  \n",
       "1                     0.351   31        0  \n",
       "2                     0.672   32        1  \n",
       "3                     0.167   21        0  \n",
       "4                     2.288   33        1  "
      ]
     },
     "execution_count": 7,
     "metadata": {},
     "output_type": "execute_result"
    }
   ],
   "source": [
    "df.head()"
   ]
  },
  {
   "cell_type": "code",
   "execution_count": 8,
   "id": "8d7fc548",
   "metadata": {},
   "outputs": [],
   "source": [
    "df['BloodPressureSquare'] = np.square(df['BloodPressure'])\n",
    "df['BloodPressureCube'] = df['BloodPressure']**3\n",
    "df['BloodPressureSqrt'] = np.sqrt(df['BloodPressure'])"
   ]
  },
  {
   "cell_type": "code",
   "execution_count": 9,
   "id": "a9f9194d",
   "metadata": {},
   "outputs": [],
   "source": [
    "df['GlucoseSquare'] = np.square(df['Glucose'])\n",
    "df['GlucoseCube'] = df['Glucose']**3\n",
    "df['GlucoseSqrt'] = np.sqrt(df['Glucose'])"
   ]
  },
  {
   "cell_type": "code",
   "execution_count": 10,
   "id": "85ca216e",
   "metadata": {},
   "outputs": [],
   "source": [
    "df['GlucoseBloodPressure'] = df['BloodPressure'] * df['Glucose']\n",
    "df['AgeBMI'] = df['Age'] * df['BMI']"
   ]
  },
  {
   "cell_type": "code",
   "execution_count": 11,
   "id": "d9487e25",
   "metadata": {},
   "outputs": [
    {
     "data": {
      "text/html": [
       "<div>\n",
       "<style scoped>\n",
       "    .dataframe tbody tr th:only-of-type {\n",
       "        vertical-align: middle;\n",
       "    }\n",
       "\n",
       "    .dataframe tbody tr th {\n",
       "        vertical-align: top;\n",
       "    }\n",
       "\n",
       "    .dataframe thead th {\n",
       "        text-align: right;\n",
       "    }\n",
       "</style>\n",
       "<table border=\"1\" class=\"dataframe\">\n",
       "  <thead>\n",
       "    <tr style=\"text-align: right;\">\n",
       "      <th></th>\n",
       "      <th>Pregnancies</th>\n",
       "      <th>Glucose</th>\n",
       "      <th>BloodPressure</th>\n",
       "      <th>SkinThickness</th>\n",
       "      <th>Insulin</th>\n",
       "      <th>BMI</th>\n",
       "      <th>DiabetesPedigreeFunction</th>\n",
       "      <th>Age</th>\n",
       "      <th>Outcome</th>\n",
       "      <th>BloodPressureSquare</th>\n",
       "      <th>BloodPressureCube</th>\n",
       "      <th>BloodPressureSqrt</th>\n",
       "      <th>GlucoseSquare</th>\n",
       "      <th>GlucoseCube</th>\n",
       "      <th>GlucoseSqrt</th>\n",
       "      <th>GlucoseBloodPressure</th>\n",
       "      <th>AgeBMI</th>\n",
       "    </tr>\n",
       "  </thead>\n",
       "  <tbody>\n",
       "    <tr>\n",
       "      <th>0</th>\n",
       "      <td>6</td>\n",
       "      <td>148</td>\n",
       "      <td>72</td>\n",
       "      <td>35</td>\n",
       "      <td>0</td>\n",
       "      <td>33.600</td>\n",
       "      <td>0.627</td>\n",
       "      <td>50</td>\n",
       "      <td>1</td>\n",
       "      <td>5184</td>\n",
       "      <td>373248</td>\n",
       "      <td>8.485</td>\n",
       "      <td>21904</td>\n",
       "      <td>3241792</td>\n",
       "      <td>12.166</td>\n",
       "      <td>10656</td>\n",
       "      <td>1680.000</td>\n",
       "    </tr>\n",
       "    <tr>\n",
       "      <th>1</th>\n",
       "      <td>1</td>\n",
       "      <td>85</td>\n",
       "      <td>66</td>\n",
       "      <td>29</td>\n",
       "      <td>0</td>\n",
       "      <td>26.600</td>\n",
       "      <td>0.351</td>\n",
       "      <td>31</td>\n",
       "      <td>0</td>\n",
       "      <td>4356</td>\n",
       "      <td>287496</td>\n",
       "      <td>8.124</td>\n",
       "      <td>7225</td>\n",
       "      <td>614125</td>\n",
       "      <td>9.220</td>\n",
       "      <td>5610</td>\n",
       "      <td>824.600</td>\n",
       "    </tr>\n",
       "    <tr>\n",
       "      <th>2</th>\n",
       "      <td>8</td>\n",
       "      <td>183</td>\n",
       "      <td>64</td>\n",
       "      <td>0</td>\n",
       "      <td>0</td>\n",
       "      <td>23.300</td>\n",
       "      <td>0.672</td>\n",
       "      <td>32</td>\n",
       "      <td>1</td>\n",
       "      <td>4096</td>\n",
       "      <td>262144</td>\n",
       "      <td>8.000</td>\n",
       "      <td>33489</td>\n",
       "      <td>6128487</td>\n",
       "      <td>13.528</td>\n",
       "      <td>11712</td>\n",
       "      <td>745.600</td>\n",
       "    </tr>\n",
       "    <tr>\n",
       "      <th>3</th>\n",
       "      <td>1</td>\n",
       "      <td>89</td>\n",
       "      <td>66</td>\n",
       "      <td>23</td>\n",
       "      <td>94</td>\n",
       "      <td>28.100</td>\n",
       "      <td>0.167</td>\n",
       "      <td>21</td>\n",
       "      <td>0</td>\n",
       "      <td>4356</td>\n",
       "      <td>287496</td>\n",
       "      <td>8.124</td>\n",
       "      <td>7921</td>\n",
       "      <td>704969</td>\n",
       "      <td>9.434</td>\n",
       "      <td>5874</td>\n",
       "      <td>590.100</td>\n",
       "    </tr>\n",
       "    <tr>\n",
       "      <th>4</th>\n",
       "      <td>0</td>\n",
       "      <td>137</td>\n",
       "      <td>40</td>\n",
       "      <td>35</td>\n",
       "      <td>168</td>\n",
       "      <td>43.100</td>\n",
       "      <td>2.288</td>\n",
       "      <td>33</td>\n",
       "      <td>1</td>\n",
       "      <td>1600</td>\n",
       "      <td>64000</td>\n",
       "      <td>6.325</td>\n",
       "      <td>18769</td>\n",
       "      <td>2571353</td>\n",
       "      <td>11.705</td>\n",
       "      <td>5480</td>\n",
       "      <td>1422.300</td>\n",
       "    </tr>\n",
       "  </tbody>\n",
       "</table>\n",
       "</div>"
      ],
      "text/plain": [
       "   Pregnancies  Glucose  BloodPressure  SkinThickness  Insulin    BMI  \\\n",
       "0            6      148             72             35        0 33.600   \n",
       "1            1       85             66             29        0 26.600   \n",
       "2            8      183             64              0        0 23.300   \n",
       "3            1       89             66             23       94 28.100   \n",
       "4            0      137             40             35      168 43.100   \n",
       "\n",
       "   DiabetesPedigreeFunction  Age  Outcome  BloodPressureSquare  \\\n",
       "0                     0.627   50        1                 5184   \n",
       "1                     0.351   31        0                 4356   \n",
       "2                     0.672   32        1                 4096   \n",
       "3                     0.167   21        0                 4356   \n",
       "4                     2.288   33        1                 1600   \n",
       "\n",
       "   BloodPressureCube  BloodPressureSqrt  GlucoseSquare  GlucoseCube  \\\n",
       "0             373248              8.485          21904      3241792   \n",
       "1             287496              8.124           7225       614125   \n",
       "2             262144              8.000          33489      6128487   \n",
       "3             287496              8.124           7921       704969   \n",
       "4              64000              6.325          18769      2571353   \n",
       "\n",
       "   GlucoseSqrt  GlucoseBloodPressure   AgeBMI  \n",
       "0       12.166                 10656 1680.000  \n",
       "1        9.220                  5610  824.600  \n",
       "2       13.528                 11712  745.600  \n",
       "3        9.434                  5874  590.100  \n",
       "4       11.705                  5480 1422.300  "
      ]
     },
     "execution_count": 11,
     "metadata": {},
     "output_type": "execute_result"
    }
   ],
   "source": [
    "df.head()"
   ]
  },
  {
   "cell_type": "code",
   "execution_count": 12,
   "id": "5efa65de",
   "metadata": {},
   "outputs": [
    {
     "data": {
      "text/plain": [
       "[]"
      ]
     },
     "execution_count": 12,
     "metadata": {},
     "output_type": "execute_result"
    }
   ],
   "source": [
    "categorical_feature_columns = list(set(df.columns) - set(df._get_numeric_data().columns))\n",
    "categorical_feature_columns"
   ]
  },
  {
   "cell_type": "code",
   "execution_count": 13,
   "id": "37c48e3f",
   "metadata": {},
   "outputs": [
    {
     "data": {
      "text/plain": [
       "['Pregnancies',\n",
       " 'Glucose',\n",
       " 'BloodPressure',\n",
       " 'SkinThickness',\n",
       " 'Insulin',\n",
       " 'BMI',\n",
       " 'DiabetesPedigreeFunction',\n",
       " 'Age',\n",
       " 'Outcome',\n",
       " 'BloodPressureSquare',\n",
       " 'BloodPressureCube',\n",
       " 'BloodPressureSqrt',\n",
       " 'GlucoseSquare',\n",
       " 'GlucoseCube',\n",
       " 'GlucoseSqrt',\n",
       " 'GlucoseBloodPressure',\n",
       " 'AgeBMI']"
      ]
     },
     "execution_count": 13,
     "metadata": {},
     "output_type": "execute_result"
    }
   ],
   "source": [
    "numerical_feature_columns = list(df._get_numeric_data().columns)\n",
    "numerical_feature_columns"
   ]
  },
  {
   "cell_type": "code",
   "execution_count": 14,
   "id": "122f336d",
   "metadata": {},
   "outputs": [],
   "source": [
    "target = 'Outcome'"
   ]
  },
  {
   "cell_type": "code",
   "execution_count": 15,
   "id": "bd8df1cd",
   "metadata": {},
   "outputs": [
    {
     "data": {
      "text/plain": [
       "<AxesSubplot:>"
      ]
     },
     "execution_count": 15,
     "metadata": {},
     "output_type": "execute_result"
    },
    {
     "data": {
      "image/png": "[encoded data removed]",
      "text/plain": [
       "<Figure size 720x432 with 2 Axes>"
      ]
     },
     "metadata": {
      "needs_background": "light"
     },
     "output_type": "display_data"
    }
   ],
   "source": [
    "k = 15 #number of variables for heatmap\n",
    "cols = df[numerical_feature_columns].corr().nlargest(k, target)[target].index\n",
    "cm = df[cols].corr()\n",
    "plt.figure(figsize=(10,6))\n",
    "sns.heatmap(cm, annot=True, cmap = 'viridis')"
   ]
  },
  {
   "cell_type": "code",
   "execution_count": 16,
   "id": "798b6542",
   "metadata": {},
   "outputs": [],
   "source": [
    "X = df.loc[:, df.columns != target]\n",
    "Y = df.loc[:, df.columns == target]"
   ]
  },
  {
   "cell_type": "code",
   "execution_count": 17,
   "id": "4a1c675b",
   "metadata": {},
   "outputs": [
    {
     "data": {
      "text/plain": [
       "((768, 16), (768, 1))"
      ]
     },
     "execution_count": 17,
     "metadata": {},
     "output_type": "execute_result"
    }
   ],
   "source": [
    "X.shape , Y.shape"
   ]
  },
  {
   "cell_type": "code",
   "execution_count": 18,
   "id": "fa414666",
   "metadata": {},
   "outputs": [],
   "source": [
    "x_train, x_test, y_train, y_test = train_test_split(X, Y, \n",
    "                                                    test_size=0.33, \n",
    "                                                    random_state=8)"
   ]
  },
  {
   "cell_type": "code",
   "execution_count": 19,
   "id": "59045b3f",
   "metadata": {},
   "outputs": [],
   "source": [
    "clf_lr = LogisticRegression()      \n",
    "lr_baseline_model = clf_lr.fit(x_train,y_train)"
   ]
  },
  {
   "cell_type": "code",
   "execution_count": 20,
   "id": "22cac84f",
   "metadata": {},
   "outputs": [
    {
     "name": "stdout",
     "output_type": "stream",
     "text": [
      "Accuracy is:  0.7598425196850394\n",
      "F1 score is:  0.6013071895424835\n",
      "\n",
      "\n",
      "Actual      0   1\n",
      "Predicted        \n",
      "0          39  23\n",
      "1          15   8\n"
     ]
    },
    {
     "data": {
      "text/plain": [
       "1"
      ]
     },
     "execution_count": 20,
     "metadata": {},
     "output_type": "execute_result"
    }
   ],
   "source": [
    "generate_accuracy_and_heatmap(lr_baseline_model, x_test, y_test)"
   ]
  },
  {
   "cell_type": "markdown",
   "id": "5fcccbee",
   "metadata": {},
   "source": [
    "# Univariate feature selection"
   ]
  },
  {
   "cell_type": "code",
   "execution_count": 21,
   "id": "f22fb486",
   "metadata": {},
   "outputs": [
    {
     "data": {
      "text/html": [
       "<div>\n",
       "<style scoped>\n",
       "    .dataframe tbody tr th:only-of-type {\n",
       "        vertical-align: middle;\n",
       "    }\n",
       "\n",
       "    .dataframe tbody tr th {\n",
       "        vertical-align: top;\n",
       "    }\n",
       "\n",
       "    .dataframe thead th {\n",
       "        text-align: right;\n",
       "    }\n",
       "</style>\n",
       "<table border=\"1\" class=\"dataframe\">\n",
       "  <thead>\n",
       "    <tr style=\"text-align: right;\">\n",
       "      <th></th>\n",
       "      <th>Feature</th>\n",
       "      <th>Scores</th>\n",
       "    </tr>\n",
       "  </thead>\n",
       "  <tbody>\n",
       "    <tr>\n",
       "      <th>12</th>\n",
       "      <td>GlucoseCube</td>\n",
       "      <td>140493344.594</td>\n",
       "    </tr>\n",
       "    <tr>\n",
       "      <th>9</th>\n",
       "      <td>BloodPressureCube</td>\n",
       "      <td>916853.946</td>\n",
       "    </tr>\n",
       "    <tr>\n",
       "      <th>11</th>\n",
       "      <td>GlucoseSquare</td>\n",
       "      <td>474020.139</td>\n",
       "    </tr>\n",
       "    <tr>\n",
       "      <th>14</th>\n",
       "      <td>GlucoseBloodPressure</td>\n",
       "      <td>77960.489</td>\n",
       "    </tr>\n",
       "    <tr>\n",
       "      <th>15</th>\n",
       "      <td>AgeBMI</td>\n",
       "      <td>10527.823</td>\n",
       "    </tr>\n",
       "    <tr>\n",
       "      <th>8</th>\n",
       "      <td>BloodPressureSquare</td>\n",
       "      <td>4333.499</td>\n",
       "    </tr>\n",
       "    <tr>\n",
       "      <th>4</th>\n",
       "      <td>Insulin</td>\n",
       "      <td>1026.387</td>\n",
       "    </tr>\n",
       "    <tr>\n",
       "      <th>1</th>\n",
       "      <td>Glucose</td>\n",
       "      <td>924.909</td>\n",
       "    </tr>\n",
       "    <tr>\n",
       "      <th>7</th>\n",
       "      <td>Age</td>\n",
       "      <td>93.008</td>\n",
       "    </tr>\n",
       "    <tr>\n",
       "      <th>5</th>\n",
       "      <td>BMI</td>\n",
       "      <td>71.933</td>\n",
       "    </tr>\n",
       "    <tr>\n",
       "      <th>0</th>\n",
       "      <td>Pregnancies</td>\n",
       "      <td>53.730</td>\n",
       "    </tr>\n",
       "    <tr>\n",
       "      <th>3</th>\n",
       "      <td>SkinThickness</td>\n",
       "      <td>47.760</td>\n",
       "    </tr>\n",
       "    <tr>\n",
       "      <th>13</th>\n",
       "      <td>GlucoseSqrt</td>\n",
       "      <td>20.700</td>\n",
       "    </tr>\n",
       "    <tr>\n",
       "      <th>2</th>\n",
       "      <td>BloodPressure</td>\n",
       "      <td>8.329</td>\n",
       "    </tr>\n",
       "    <tr>\n",
       "      <th>6</th>\n",
       "      <td>DiabetesPedigreeFunction</td>\n",
       "      <td>4.719</td>\n",
       "    </tr>\n",
       "    <tr>\n",
       "      <th>10</th>\n",
       "      <td>BloodPressureSqrt</td>\n",
       "      <td>0.043</td>\n",
       "    </tr>\n",
       "  </tbody>\n",
       "</table>\n",
       "</div>"
      ],
      "text/plain": [
       "                     Feature        Scores\n",
       "12               GlucoseCube 140493344.594\n",
       "9          BloodPressureCube    916853.946\n",
       "11             GlucoseSquare    474020.139\n",
       "14      GlucoseBloodPressure     77960.489\n",
       "15                    AgeBMI     10527.823\n",
       "8        BloodPressureSquare      4333.499\n",
       "4                    Insulin      1026.387\n",
       "1                    Glucose       924.909\n",
       "7                        Age        93.008\n",
       "5                        BMI        71.933\n",
       "0                Pregnancies        53.730\n",
       "3              SkinThickness        47.760\n",
       "13               GlucoseSqrt        20.700\n",
       "2              BloodPressure         8.329\n",
       "6   DiabetesPedigreeFunction         4.719\n",
       "10         BloodPressureSqrt         0.043"
      ]
     },
     "execution_count": 21,
     "metadata": {},
     "output_type": "execute_result"
    }
   ],
   "source": [
    "select_feature = SelectKBest(chi2, k=5).fit(x_train, y_train)\n",
    "selected_features_df = pd.DataFrame({'Feature':list(x_train.columns),\n",
    "                                     'Scores':select_feature.scores_})\n",
    "selected_features_df.sort_values(by='Scores', ascending=False)"
   ]
  },
  {
   "cell_type": "code",
   "execution_count": 52,
   "id": "49039e5a",
   "metadata": {},
   "outputs": [
    {
     "data": {
      "text/html": [
       "<style>#sk-container-id-1 {color: black;background-color: white;}#sk-container-id-1 pre{padding: 0;}#sk-container-id-1 div.sk-toggleable {background-color: white;}#sk-container-id-1 label.sk-toggleable__label {cursor: pointer;display: block;width: 100%;margin-bottom: 0;padding: 0.3em;box-sizing: border-box;text-align: center;}#sk-container-id-1 label.sk-toggleable__label-arrow:before {content: \"▸\";float: left;margin-right: 0.25em;color: #696969;}#sk-container-id-1 label.sk-toggleable__label-arrow:hover:before {color: black;}#sk-container-id-1 div.sk-estimator:hover label.sk-toggleable__label-arrow:before {color: black;}#sk-container-id-1 div.sk-toggleable__content {max-height: 0;max-width: 0;overflow: hidden;text-align: left;background-color: #f0f8ff;}#sk-container-id-1 div.sk-toggleable__content pre {margin: 0.2em;color: black;border-radius: 0.25em;background-color: #f0f8ff;}#sk-container-id-1 input.sk-toggleable__control:checked~div.sk-toggleable__content {max-height: 200px;max-width: 100%;overflow: auto;}#sk-container-id-1 input.sk-toggleable__control:checked~label.sk-toggleable__label-arrow:before {content: \"▾\";}#sk-container-id-1 div.sk-estimator input.sk-toggleable__control:checked~label.sk-toggleable__label {background-color: #d4ebff;}#sk-container-id-1 div.sk-label input.sk-toggleable__control:checked~label.sk-toggleable__label {background-color: #d4ebff;}#sk-container-id-1 input.sk-hidden--visually {border: 0;clip: rect(1px 1px 1px 1px);clip: rect(1px, 1px, 1px, 1px);height: 1px;margin: -1px;overflow: hidden;padding: 0;position: absolute;width: 1px;}#sk-container-id-1 div.sk-estimator {font-family: monospace;background-color: #f0f8ff;border: 1px dotted black;border-radius: 0.25em;box-sizing: border-box;margin-bottom: 0.5em;}#sk-container-id-1 div.sk-estimator:hover {background-color: #d4ebff;}#sk-container-id-1 div.sk-parallel-item::after {content: \"\";width: 100%;border-bottom: 1px solid gray;flex-grow: 1;}#sk-container-id-1 div.sk-label:hover label.sk-toggleable__label {background-color: #d4ebff;}#sk-container-id-1 div.sk-serial::before {content: \"\";position: absolute;border-left: 1px solid gray;box-sizing: border-box;top: 0;bottom: 0;left: 50%;z-index: 0;}#sk-container-id-1 div.sk-serial {display: flex;flex-direction: column;align-items: center;background-color: white;padding-right: 0.2em;padding-left: 0.2em;position: relative;}#sk-container-id-1 div.sk-item {position: relative;z-index: 1;}#sk-container-id-1 div.sk-parallel {display: flex;align-items: stretch;justify-content: center;background-color: white;position: relative;}#sk-container-id-1 div.sk-item::before, #sk-container-id-1 div.sk-parallel-item::before {content: \"\";position: absolute;border-left: 1px solid gray;box-sizing: border-box;top: 0;bottom: 0;left: 50%;z-index: -1;}#sk-container-id-1 div.sk-parallel-item {display: flex;flex-direction: column;z-index: 1;position: relative;background-color: white;}#sk-container-id-1 div.sk-parallel-item:first-child::after {align-self: flex-end;width: 50%;}#sk-container-id-1 div.sk-parallel-item:last-child::after {align-self: flex-start;width: 50%;}#sk-container-id-1 div.sk-parallel-item:only-child::after {width: 0;}#sk-container-id-1 div.sk-dashed-wrapped {border: 1px dashed gray;margin: 0 0.4em 0.5em 0.4em;box-sizing: border-box;padding-bottom: 0.4em;background-color: white;}#sk-container-id-1 div.sk-label label {font-family: monospace;font-weight: bold;display: inline-block;line-height: 1.2em;}#sk-container-id-1 div.sk-label-container {text-align: center;}#sk-container-id-1 div.sk-container {/* jupyter's `normalize.less` sets `[hidden] { display: none; }` but bootstrap.min.css set `[hidden] { display: none !important; }` so we also need the `!important` here to be able to override the default hidden behavior on the sphinx rendered scikit-learn.org. See: https://github.com/scikit-learn/scikit-learn/issues/21755 */display: inline-block !important;position: relative;}#sk-container-id-1 div.sk-text-repr-fallback {display: none;}</style><div id=\"sk-container-id-1\" class=\"sk-top-container\"><div class=\"sk-text-repr-fallback\"><pre>SelectKBest(k=5, score_func=&lt;function chi2 at 0x00000245F3496430&gt;)</pre><b>In a Jupyter environment, please rerun this cell to show the HTML representation or trust the notebook. <br />On GitHub, the HTML representation is unable to render, please try loading this page with nbviewer.org.</b></div><div class=\"sk-container\" hidden><div class=\"sk-item\"><div class=\"sk-estimator sk-toggleable\"><input class=\"sk-toggleable__control sk-hidden--visually\" id=\"sk-estimator-id-1\" type=\"checkbox\" checked><label for=\"sk-estimator-id-1\" class=\"sk-toggleable__label sk-toggleable__label-arrow\">SelectKBest</label><div class=\"sk-toggleable__content\"><pre>SelectKBest(k=5, score_func=&lt;function chi2 at 0x00000245F3496430&gt;)</pre></div></div></div></div></div>"
      ],
      "text/plain": [
       "SelectKBest(k=5, score_func=<function chi2 at 0x00000245F3496430>)"
      ]
     },
     "execution_count": 52,
     "metadata": {},
     "output_type": "execute_result"
    }
   ],
   "source": [
    "select_feature"
   ]
  },
  {
   "cell_type": "code",
   "execution_count": 22,
   "id": "d6e6d77e",
   "metadata": {},
   "outputs": [],
   "source": [
    "x_train_chi = select_feature.transform(x_train)\n",
    "x_test_chi = select_feature.transform(x_test)"
   ]
  },
  {
   "cell_type": "code",
   "execution_count": 23,
   "id": "030dec8a",
   "metadata": {},
   "outputs": [
    {
     "data": {
      "text/plain": [
       "array([[0.000e+00, 7.056e+03, 5.927e+05, 0.000e+00, 0.000e+00],\n",
       "       [0.000e+00, 3.240e+04, 5.832e+06, 0.000e+00, 1.775e+03],\n",
       "       [3.144e+05, 8.836e+03, 8.306e+05, 6.392e+03, 5.460e+02]])"
      ]
     },
     "execution_count": 23,
     "metadata": {},
     "output_type": "execute_result"
    }
   ],
   "source": [
    "x_train_chi[0:3]"
   ]
  },
  {
   "cell_type": "code",
   "execution_count": 24,
   "id": "94e27395",
   "metadata": {},
   "outputs": [],
   "source": [
    "lr_chi_model = clf_lr.fit(x_train_chi,y_train)"
   ]
  },
  {
   "cell_type": "code",
   "execution_count": 25,
   "id": "8c38c8a6",
   "metadata": {},
   "outputs": [
    {
     "name": "stdout",
     "output_type": "stream",
     "text": [
      "Accuracy is:  0.7716535433070866\n",
      "F1 score is:  0.6027397260273972\n",
      "\n",
      "\n",
      "Actual      0   1\n",
      "Predicted        \n",
      "0          41  24\n",
      "1          13   7\n"
     ]
    },
    {
     "data": {
      "text/plain": [
       "1"
      ]
     },
     "execution_count": 25,
     "metadata": {},
     "output_type": "execute_result"
    }
   ],
   "source": [
    "generate_accuracy_and_heatmap(lr_chi_model, x_test_chi, y_test)"
   ]
  },
  {
   "cell_type": "code",
   "execution_count": 26,
   "id": "2e0cd0ad",
   "metadata": {},
   "outputs": [],
   "source": [
    "rfe = RFE(estimator=clf_lr, step=1)\n",
    "rfe = rfe.fit(x_train, y_train)"
   ]
  },
  {
   "cell_type": "code",
   "execution_count": 27,
   "id": "62c3bb04",
   "metadata": {},
   "outputs": [
    {
     "data": {
      "text/html": [
       "<div>\n",
       "<style scoped>\n",
       "    .dataframe tbody tr th:only-of-type {\n",
       "        vertical-align: middle;\n",
       "    }\n",
       "\n",
       "    .dataframe tbody tr th {\n",
       "        vertical-align: top;\n",
       "    }\n",
       "\n",
       "    .dataframe thead th {\n",
       "        text-align: right;\n",
       "    }\n",
       "</style>\n",
       "<table border=\"1\" class=\"dataframe\">\n",
       "  <thead>\n",
       "    <tr style=\"text-align: right;\">\n",
       "      <th></th>\n",
       "      <th>Feature</th>\n",
       "      <th>Ranking</th>\n",
       "    </tr>\n",
       "  </thead>\n",
       "  <tbody>\n",
       "    <tr>\n",
       "      <th>0</th>\n",
       "      <td>Pregnancies</td>\n",
       "      <td>1</td>\n",
       "    </tr>\n",
       "    <tr>\n",
       "      <th>1</th>\n",
       "      <td>Glucose</td>\n",
       "      <td>1</td>\n",
       "    </tr>\n",
       "    <tr>\n",
       "      <th>4</th>\n",
       "      <td>Insulin</td>\n",
       "      <td>1</td>\n",
       "    </tr>\n",
       "    <tr>\n",
       "      <th>5</th>\n",
       "      <td>BMI</td>\n",
       "      <td>1</td>\n",
       "    </tr>\n",
       "    <tr>\n",
       "      <th>7</th>\n",
       "      <td>Age</td>\n",
       "      <td>1</td>\n",
       "    </tr>\n",
       "    <tr>\n",
       "      <th>10</th>\n",
       "      <td>BloodPressureSqrt</td>\n",
       "      <td>1</td>\n",
       "    </tr>\n",
       "    <tr>\n",
       "      <th>13</th>\n",
       "      <td>GlucoseSqrt</td>\n",
       "      <td>1</td>\n",
       "    </tr>\n",
       "    <tr>\n",
       "      <th>15</th>\n",
       "      <td>AgeBMI</td>\n",
       "      <td>1</td>\n",
       "    </tr>\n",
       "    <tr>\n",
       "      <th>2</th>\n",
       "      <td>BloodPressure</td>\n",
       "      <td>2</td>\n",
       "    </tr>\n",
       "    <tr>\n",
       "      <th>14</th>\n",
       "      <td>GlucoseBloodPressure</td>\n",
       "      <td>3</td>\n",
       "    </tr>\n",
       "    <tr>\n",
       "      <th>11</th>\n",
       "      <td>GlucoseSquare</td>\n",
       "      <td>4</td>\n",
       "    </tr>\n",
       "    <tr>\n",
       "      <th>8</th>\n",
       "      <td>BloodPressureSquare</td>\n",
       "      <td>5</td>\n",
       "    </tr>\n",
       "    <tr>\n",
       "      <th>9</th>\n",
       "      <td>BloodPressureCube</td>\n",
       "      <td>6</td>\n",
       "    </tr>\n",
       "    <tr>\n",
       "      <th>3</th>\n",
       "      <td>SkinThickness</td>\n",
       "      <td>7</td>\n",
       "    </tr>\n",
       "    <tr>\n",
       "      <th>12</th>\n",
       "      <td>GlucoseCube</td>\n",
       "      <td>8</td>\n",
       "    </tr>\n",
       "    <tr>\n",
       "      <th>6</th>\n",
       "      <td>DiabetesPedigreeFunction</td>\n",
       "      <td>9</td>\n",
       "    </tr>\n",
       "  </tbody>\n",
       "</table>\n",
       "</div>"
      ],
      "text/plain": [
       "                     Feature  Ranking\n",
       "0                Pregnancies        1\n",
       "1                    Glucose        1\n",
       "4                    Insulin        1\n",
       "5                        BMI        1\n",
       "7                        Age        1\n",
       "10         BloodPressureSqrt        1\n",
       "13               GlucoseSqrt        1\n",
       "15                    AgeBMI        1\n",
       "2              BloodPressure        2\n",
       "14      GlucoseBloodPressure        3\n",
       "11             GlucoseSquare        4\n",
       "8        BloodPressureSquare        5\n",
       "9          BloodPressureCube        6\n",
       "3              SkinThickness        7\n",
       "12               GlucoseCube        8\n",
       "6   DiabetesPedigreeFunction        9"
      ]
     },
     "execution_count": 27,
     "metadata": {},
     "output_type": "execute_result"
    }
   ],
   "source": [
    "selected_rfe_features = pd.DataFrame({'Feature':list(x_train.columns),\n",
    "                                      'Ranking':rfe.ranking_})\n",
    "selected_rfe_features.sort_values(by='Ranking')"
   ]
  },
  {
   "cell_type": "code",
   "execution_count": 28,
   "id": "25e451d8",
   "metadata": {},
   "outputs": [],
   "source": [
    "x_train_rfe = rfe.transform(x_train)\n",
    "x_test_rfe = rfe.transform(x_test)"
   ]
  },
  {
   "cell_type": "code",
   "execution_count": 29,
   "id": "514ed4f4",
   "metadata": {},
   "outputs": [
    {
     "data": {
      "text/plain": [
       "array([[2.000e+00, 8.400e+01, 0.000e+00, 0.000e+00, 2.100e+01, 0.000e+00,\n",
       "        9.165e+00, 0.000e+00],\n",
       "       [1.000e+00, 1.800e+02, 0.000e+00, 4.330e+01, 4.100e+01, 0.000e+00,\n",
       "        1.342e+01, 1.775e+03],\n",
       "       [2.000e+00, 9.400e+01, 7.600e+01, 2.600e+01, 2.100e+01, 8.246e+00,\n",
       "        9.695e+00, 5.460e+02]])"
      ]
     },
     "execution_count": 29,
     "metadata": {},
     "output_type": "execute_result"
    }
   ],
   "source": [
    "x_train_rfe[0:3]"
   ]
  },
  {
   "cell_type": "code",
   "execution_count": 30,
   "id": "da757d31",
   "metadata": {},
   "outputs": [],
   "source": [
    "lr_rfe_model = clf_lr.fit(x_train_rfe, y_train)"
   ]
  },
  {
   "cell_type": "code",
   "execution_count": 31,
   "id": "ee815f05",
   "metadata": {},
   "outputs": [
    {
     "name": "stdout",
     "output_type": "stream",
     "text": [
      "Accuracy is:  0.7874015748031497\n",
      "F1 score is:  0.6538461538461539\n",
      "\n",
      "\n",
      "Actual      0   1\n",
      "Predicted        \n",
      "0          35  23\n",
      "1          19   8\n"
     ]
    },
    {
     "data": {
      "text/plain": [
       "1"
      ]
     },
     "execution_count": 31,
     "metadata": {},
     "output_type": "execute_result"
    }
   ],
   "source": [
    "generate_accuracy_and_heatmap(lr_rfe_model, x_test_rfe, y_test)"
   ]
  },
  {
   "cell_type": "markdown",
   "id": "5086b6cb",
   "metadata": {},
   "source": [
    "# Recursive feature elimination with cross validation"
   ]
  },
  {
   "cell_type": "code",
   "execution_count": 32,
   "id": "4174c0cb",
   "metadata": {},
   "outputs": [
    {
     "name": "stdout",
     "output_type": "stream",
     "text": [
      "Optimal number of features : 5\n",
      "Best features : Index(['Pregnancies', 'Glucose', 'BMI', 'BloodPressureSqrt', 'GlucoseSqrt'], dtype='object')\n"
     ]
    }
   ],
   "source": [
    "rfecv = RFECV(estimator=clf_lr, step=1, cv=5, scoring='accuracy')\n",
    "rfecv = rfecv.fit(x_train, y_train)\n",
    "print('Optimal number of features :', rfecv.n_features_)\n",
    "print('Best features :', x_train.columns[rfecv.support_])"
   ]
  },
  {
   "cell_type": "code",
   "execution_count": 33,
   "id": "f363ba24",
   "metadata": {},
   "outputs": [
    {
     "data": {
      "text/plain": [
       "array([[0.796, 0.641, 0.748, 0.738, 0.745],\n",
       "       [0.786, 0.718, 0.738, 0.738, 0.725],\n",
       "       [0.786, 0.709, 0.738, 0.748, 0.765],\n",
       "       [0.825, 0.728, 0.738, 0.767, 0.765],\n",
       "       [0.835, 0.718, 0.777, 0.767, 0.765],\n",
       "       [0.816, 0.718, 0.767, 0.786, 0.765],\n",
       "       [0.835, 0.718, 0.767, 0.757, 0.765],\n",
       "       [0.835, 0.709, 0.777, 0.767, 0.765],\n",
       "       [0.845, 0.709, 0.767, 0.767, 0.765],\n",
       "       [0.845, 0.718, 0.728, 0.748, 0.784],\n",
       "       [0.845, 0.709, 0.786, 0.748, 0.765],\n",
       "       [0.825, 0.709, 0.786, 0.748, 0.775],\n",
       "       [0.816, 0.718, 0.767, 0.748, 0.765],\n",
       "       [0.806, 0.709, 0.767, 0.748, 0.706],\n",
       "       [0.835, 0.738, 0.748, 0.738, 0.706],\n",
       "       [0.835, 0.748, 0.748, 0.738, 0.735]])"
      ]
     },
     "execution_count": 33,
     "metadata": {},
     "output_type": "execute_result"
    }
   ],
   "source": [
    "rfecv.grid_scores_"
   ]
  },
  {
   "cell_type": "code",
   "execution_count": 34,
   "id": "fb9de85f",
   "metadata": {},
   "outputs": [
    {
     "data": {
      "image/png": "[encoded data removed]",
      "text/plain": [
       "<Figure size 432x288 with 1 Axes>"
      ]
     },
     "metadata": {
      "needs_background": "light"
     },
     "output_type": "display_data"
    }
   ],
   "source": [
    "plt.figure()\n",
    "plt.xlabel(\"Number of features selected\")\n",
    "plt.ylabel(\"Cross validation score of number of selected features\")\n",
    "plt.plot(range(1, len(rfecv.grid_scores_) + 1), rfecv.grid_scores_)\n",
    "plt.show()"
   ]
  },
  {
   "cell_type": "code",
   "execution_count": 35,
   "id": "ea7760e1",
   "metadata": {},
   "outputs": [],
   "source": [
    "x_train_rfecv = rfecv.transform(x_train)\n",
    "x_test_rfecv = rfecv.transform(x_test)"
   ]
  },
  {
   "cell_type": "code",
   "execution_count": 36,
   "id": "2cb9f9c5",
   "metadata": {},
   "outputs": [],
   "source": [
    "lr_rfecv_model = clf_lr.fit(x_train_rfecv, y_train)"
   ]
  },
  {
   "cell_type": "code",
   "execution_count": 37,
   "id": "7cfe51e2",
   "metadata": {},
   "outputs": [
    {
     "name": "stdout",
     "output_type": "stream",
     "text": [
      "Accuracy is:  0.7755905511811023\n",
      "F1 score is:  0.6415094339622641\n",
      "\n",
      "\n",
      "Actual      0   1\n",
      "Predicted        \n",
      "0          36  24\n",
      "1          18   7\n"
     ]
    },
    {
     "data": {
      "text/plain": [
       "1"
      ]
     },
     "execution_count": 37,
     "metadata": {},
     "output_type": "execute_result"
    }
   ],
   "source": [
    "generate_accuracy_and_heatmap(lr_rfecv_model, x_test_rfecv, y_test)"
   ]
  },
  {
   "cell_type": "code",
   "execution_count": 38,
   "id": "f1799c6e",
   "metadata": {},
   "outputs": [
    {
     "name": "stdout",
     "output_type": "stream",
     "text": [
      "(1797, 64)\n",
      "(1797, 20)\n"
     ]
    }
   ],
   "source": [
    "from sklearn.datasets import load_digits\n",
    "from sklearn.feature_selection import SelectKBest, chi2\n",
    "X, y = load_digits(return_X_y=True)\n",
    "print(X.shape)\n",
    "X_new = SelectKBest(chi2, k=20).fit_transform(X, y)\n",
    "print(X_new.shape)"
   ]
  },
  {
   "cell_type": "code",
   "execution_count": 53,
   "id": "9671ff5f",
   "metadata": {},
   "outputs": [
    {
     "data": {
      "text/plain": [
       "array([ 1.,  0., 15.,  2.,  0., 11., 12.,  0.,  8.,  5.,  8.,  4., 11.,\n",
       "        0.,  1.,  7.,  0.,  6.,  0.,  0.])"
      ]
     },
     "execution_count": 53,
     "metadata": {},
     "output_type": "execute_result"
    }
   ],
   "source": [
    "X_new[0]"
   ]
  },
  {
   "cell_type": "code",
   "execution_count": null,
   "id": "67664831",
   "metadata": {},
   "outputs": [],
   "source": []
  }
 ],
 "metadata": {
  "kernelspec": {
   "display_name": "Python 3",
   "language": "python",
   "name": "python3"
  },
  "language_info": {
   "codemirror_mode": {
    "name": "ipython",
    "version": 3
   },
   "file_extension": ".py",
   "mimetype": "text/x-python",
   "name": "python",
   "nbconvert_exporter": "python",
   "pygments_lexer": "ipython3",
   "version": "3.8.8"
  }
 },
 "nbformat": 4,
 "nbformat_minor": 5
}
